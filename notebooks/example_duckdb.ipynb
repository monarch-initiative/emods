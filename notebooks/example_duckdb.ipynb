{
 "cells": [
  {
   "cell_type": "markdown",
   "id": "d6365090",
   "metadata": {},
   "source": [
    "# DuckDB + Pandas Notebook\n",
    "Working with `Experimental_Models_DS_Portal_Phenotypes_20250106.txt`"
   ]
  },
  {
   "cell_type": "code",
   "execution_count": null,
   "id": "f6304092",
   "metadata": {},
   "outputs": [],
   "source": [
    "import duckdb\n",
    "import pandas as pd\n",
    "from pathlib import Path"
   ]
  },
  {
   "cell_type": "markdown",
   "id": "3e1cf6fc",
   "metadata": {},
   "source": [
    "## Load the file and peek at it"
   ]
  },
  {
   "cell_type": "code",
   "execution_count": null,
   "id": "baec5ef5",
   "metadata": {},
   "outputs": [],
   "source": [
    "DATA_PATH = Path(\"../data/Experimental_Models_DS_Portal_Phenotypes_20250106.txt\")\n",
    "\n",
    "# DuckDB can read TSV directly; we'll treat tabs as delimiter\n",
    "con = duckdb.connect()\n",
    "\n",
    "# View top 5 rows\n",
    "query = f\"\"\"\n",
    "SELECT *\n",
    "FROM read_csv_auto('{DATA_PATH.as_posix()}', delim='\\t', header=True)\n",
    "LIMIT 5;\n",
    "\"\"\"\n",
    "df_preview = con.execute(query).df()\n",
    "df_preview"
   ]
  },
  {
   "cell_type": "markdown",
   "id": "6de8127f",
   "metadata": {},
   "source": [
    "## Example query: count of phenotypes per group"
   ]
  },
  {
   "cell_type": "code",
   "execution_count": null,
   "id": "2cd8f09e",
   "metadata": {},
   "outputs": [],
   "source": [
    "query = f\"\"\"\n",
    "SELECT \"PhenotypeGroup\", COUNT(*) AS count\n",
    "FROM read_csv_auto('{DATA_PATH.as_posix()}', delim='\\t', header=True)\n",
    "GROUP BY \"PhenotypeGroup\"\n",
    "ORDER BY count DESC;\n",
    "\"\"\"\n",
    "df_counts = con.execute(query).df()\n",
    "df_counts"
   ]
  }
 ],
 "metadata": {
  "kernelspec": {
   "display_name": "Python 3 (ipykernel)",
   "language": "python",
   "name": "python3"
  },
  "language_info": {
   "codemirror_mode": {
    "name": "ipython",
    "version": 3
   },
   "file_extension": ".py",
   "mimetype": "text/x-python",
   "name": "python",
   "nbconvert_exporter": "python",
   "pygments_lexer": "ipython3",
   "version": "3.12.3"
  }
 },
 "nbformat": 4,
 "nbformat_minor": 5
}
